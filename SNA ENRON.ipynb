{
 "cells": [
  {
   "cell_type": "markdown",
   "metadata": {},
   "source": [
    "# SOCIAL NETWORK ANALYSIS. \n",
    "\n",
    "## Group D\n"
   ]
  },
  {
   "cell_type": "code",
   "execution_count": 1,
   "metadata": {},
   "outputs": [],
   "source": [
    "from igraph import *\n",
    "import igraph as ig\n",
    "import pandas as pd\n",
    "import matplotlib.pyplot as plt\n",
    "import networkx as nx\n",
    "import numpy as np"
   ]
  },
  {
   "cell_type": "code",
   "execution_count": 2,
   "metadata": {},
   "outputs": [
    {
     "data": {
      "text/html": [
       "<div>\n",
       "<style scoped>\n",
       "    .dataframe tbody tr th:only-of-type {\n",
       "        vertical-align: middle;\n",
       "    }\n",
       "\n",
       "    .dataframe tbody tr th {\n",
       "        vertical-align: top;\n",
       "    }\n",
       "\n",
       "    .dataframe thead th {\n",
       "        text-align: right;\n",
       "    }\n",
       "</style>\n",
       "<table border=\"1\" class=\"dataframe\">\n",
       "  <thead>\n",
       "    <tr style=\"text-align: right;\">\n",
       "      <th></th>\n",
       "      <th>Unnamed: 0</th>\n",
       "      <th>V1</th>\n",
       "      <th>V2</th>\n",
       "      <th>Time</th>\n",
       "      <th>Reciptype</th>\n",
       "      <th>Topic</th>\n",
       "      <th>LDC_topic</th>\n",
       "    </tr>\n",
       "  </thead>\n",
       "  <tbody>\n",
       "    <tr>\n",
       "      <th>0</th>\n",
       "      <td>1</td>\n",
       "      <td>25</td>\n",
       "      <td>154</td>\n",
       "      <td>12/31/79 21:00</td>\n",
       "      <td>to</td>\n",
       "      <td>1</td>\n",
       "      <td>0</td>\n",
       "    </tr>\n",
       "    <tr>\n",
       "      <th>1</th>\n",
       "      <td>2</td>\n",
       "      <td>25</td>\n",
       "      <td>154</td>\n",
       "      <td>12/31/79 21:00</td>\n",
       "      <td>to</td>\n",
       "      <td>1</td>\n",
       "      <td>-1</td>\n",
       "    </tr>\n",
       "    <tr>\n",
       "      <th>2</th>\n",
       "      <td>3</td>\n",
       "      <td>30</td>\n",
       "      <td>30</td>\n",
       "      <td>12/31/79 21:00</td>\n",
       "      <td>cc</td>\n",
       "      <td>3</td>\n",
       "      <td>-1</td>\n",
       "    </tr>\n",
       "    <tr>\n",
       "      <th>3</th>\n",
       "      <td>4</td>\n",
       "      <td>30</td>\n",
       "      <td>30</td>\n",
       "      <td>12/31/79 21:00</td>\n",
       "      <td>cc</td>\n",
       "      <td>3</td>\n",
       "      <td>-1</td>\n",
       "    </tr>\n",
       "    <tr>\n",
       "      <th>4</th>\n",
       "      <td>5</td>\n",
       "      <td>30</td>\n",
       "      <td>30</td>\n",
       "      <td>12/31/79 21:00</td>\n",
       "      <td>bcc</td>\n",
       "      <td>3</td>\n",
       "      <td>-1</td>\n",
       "    </tr>\n",
       "    <tr>\n",
       "      <th>...</th>\n",
       "      <td>...</td>\n",
       "      <td>...</td>\n",
       "      <td>...</td>\n",
       "      <td>...</td>\n",
       "      <td>...</td>\n",
       "      <td>...</td>\n",
       "      <td>...</td>\n",
       "    </tr>\n",
       "    <tr>\n",
       "      <th>125404</th>\n",
       "      <td>125405</td>\n",
       "      <td>18</td>\n",
       "      <td>18</td>\n",
       "      <td>6/21/02 13:15</td>\n",
       "      <td>to</td>\n",
       "      <td>1</td>\n",
       "      <td>-1</td>\n",
       "    </tr>\n",
       "    <tr>\n",
       "      <th>125405</th>\n",
       "      <td>125406</td>\n",
       "      <td>163</td>\n",
       "      <td>18</td>\n",
       "      <td>6/21/02 17:37</td>\n",
       "      <td>to</td>\n",
       "      <td>3</td>\n",
       "      <td>-1</td>\n",
       "    </tr>\n",
       "    <tr>\n",
       "      <th>125406</th>\n",
       "      <td>125407</td>\n",
       "      <td>163</td>\n",
       "      <td>156</td>\n",
       "      <td>6/21/02 17:37</td>\n",
       "      <td>to</td>\n",
       "      <td>3</td>\n",
       "      <td>-1</td>\n",
       "    </tr>\n",
       "    <tr>\n",
       "      <th>125407</th>\n",
       "      <td>125408</td>\n",
       "      <td>163</td>\n",
       "      <td>166</td>\n",
       "      <td>6/21/02 17:37</td>\n",
       "      <td>to</td>\n",
       "      <td>3</td>\n",
       "      <td>-1</td>\n",
       "    </tr>\n",
       "    <tr>\n",
       "      <th>125408</th>\n",
       "      <td>125409</td>\n",
       "      <td>18</td>\n",
       "      <td>18</td>\n",
       "      <td>6/21/02 19:40</td>\n",
       "      <td>to</td>\n",
       "      <td>1</td>\n",
       "      <td>-1</td>\n",
       "    </tr>\n",
       "  </tbody>\n",
       "</table>\n",
       "<p>125409 rows × 7 columns</p>\n",
       "</div>"
      ],
      "text/plain": [
       "        Unnamed: 0   V1   V2            Time Reciptype  Topic  LDC_topic\n",
       "0                1   25  154  12/31/79 21:00        to      1          0\n",
       "1                2   25  154  12/31/79 21:00        to      1         -1\n",
       "2                3   30   30  12/31/79 21:00        cc      3         -1\n",
       "3                4   30   30  12/31/79 21:00        cc      3         -1\n",
       "4                5   30   30  12/31/79 21:00       bcc      3         -1\n",
       "...            ...  ...  ...             ...       ...    ...        ...\n",
       "125404      125405   18   18   6/21/02 13:15        to      1         -1\n",
       "125405      125406  163   18   6/21/02 17:37        to      3         -1\n",
       "125406      125407  163  156   6/21/02 17:37        to      3         -1\n",
       "125407      125408  163  166   6/21/02 17:37        to      3         -1\n",
       "125408      125409   18   18   6/21/02 19:40        to      1         -1\n",
       "\n",
       "[125409 rows x 7 columns]"
      ]
     },
     "execution_count": 2,
     "metadata": {},
     "output_type": "execute_result"
    }
   ],
   "source": [
    "enron_edges = pd.read_csv(\"/Users/robertopicon/Downloads/MBD TERM 3/SNA/enronedges.csv\")\n",
    "enron_nodes = pd.read_csv(\"/Users/robertopicon/Downloads/MBD TERM 3/SNA/enronnodes.csv\")\n",
    "enron_edges\n"
   ]
  },
  {
   "cell_type": "code",
   "execution_count": 3,
   "metadata": {},
   "outputs": [
    {
     "name": "stdout",
     "output_type": "stream",
     "text": [
      "<class 'pandas.core.frame.DataFrame'>\n",
      "RangeIndex: 125409 entries, 0 to 125408\n",
      "Data columns (total 7 columns):\n",
      " #   Column      Non-Null Count   Dtype \n",
      "---  ------      --------------   ----- \n",
      " 0   Unnamed: 0  125409 non-null  int64 \n",
      " 1   V1          125409 non-null  int64 \n",
      " 2   V2          125409 non-null  int64 \n",
      " 3   Time        125409 non-null  object\n",
      " 4   Reciptype   125409 non-null  object\n",
      " 5   Topic       125409 non-null  int64 \n",
      " 6   LDC_topic   125409 non-null  int64 \n",
      "dtypes: int64(5), object(2)\n",
      "memory usage: 6.7+ MB\n"
     ]
    }
   ],
   "source": [
    "enron_edges.info()"
   ]
  },
  {
   "cell_type": "code",
   "execution_count": 4,
   "metadata": {},
   "outputs": [
    {
     "name": "stdout",
     "output_type": "stream",
     "text": [
      "<class 'pandas.core.frame.DataFrame'>\n",
      "RangeIndex: 125409 entries, 0 to 125408\n",
      "Data columns (total 7 columns):\n",
      " #   Column      Non-Null Count   Dtype         \n",
      "---  ------      --------------   -----         \n",
      " 0   Unnamed: 0  125409 non-null  int64         \n",
      " 1   V1          125409 non-null  int64         \n",
      " 2   V2          125409 non-null  int64         \n",
      " 3   Time        125409 non-null  datetime64[ns]\n",
      " 4   Reciptype   125409 non-null  object        \n",
      " 5   Topic       125409 non-null  int64         \n",
      " 6   LDC_topic   125409 non-null  int64         \n",
      "dtypes: datetime64[ns](1), int64(5), object(1)\n",
      "memory usage: 6.7+ MB\n"
     ]
    }
   ],
   "source": [
    "enron_edges['Time'] = pd.to_datetime(enron_edges['Time'])\n",
    "enron_edges.info()"
   ]
  },
  {
   "cell_type": "code",
   "execution_count": 5,
   "metadata": {},
   "outputs": [],
   "source": [
    "enron_edges = enron_edges.drop( columns = ['Reciptype','Topic','Unnamed: 0' ], axis = 1)\n"
   ]
  },
  {
   "cell_type": "code",
   "execution_count": 6,
   "metadata": {},
   "outputs": [
    {
     "data": {
      "text/html": [
       "<div>\n",
       "<style scoped>\n",
       "    .dataframe tbody tr th:only-of-type {\n",
       "        vertical-align: middle;\n",
       "    }\n",
       "\n",
       "    .dataframe tbody tr th {\n",
       "        vertical-align: top;\n",
       "    }\n",
       "\n",
       "    .dataframe thead th {\n",
       "        text-align: right;\n",
       "    }\n",
       "</style>\n",
       "<table border=\"1\" class=\"dataframe\">\n",
       "  <thead>\n",
       "    <tr style=\"text-align: right;\">\n",
       "      <th></th>\n",
       "      <th>V1</th>\n",
       "      <th>V2</th>\n",
       "      <th>Time</th>\n",
       "      <th>LDC_topic</th>\n",
       "    </tr>\n",
       "  </thead>\n",
       "  <tbody>\n",
       "    <tr>\n",
       "      <th>1</th>\n",
       "      <td>25</td>\n",
       "      <td>154</td>\n",
       "      <td>1979-12-31 21:00:00</td>\n",
       "      <td>-1</td>\n",
       "    </tr>\n",
       "    <tr>\n",
       "      <th>2</th>\n",
       "      <td>30</td>\n",
       "      <td>30</td>\n",
       "      <td>1979-12-31 21:00:00</td>\n",
       "      <td>-1</td>\n",
       "    </tr>\n",
       "    <tr>\n",
       "      <th>3</th>\n",
       "      <td>30</td>\n",
       "      <td>30</td>\n",
       "      <td>1979-12-31 21:00:00</td>\n",
       "      <td>-1</td>\n",
       "    </tr>\n",
       "    <tr>\n",
       "      <th>4</th>\n",
       "      <td>30</td>\n",
       "      <td>30</td>\n",
       "      <td>1979-12-31 21:00:00</td>\n",
       "      <td>-1</td>\n",
       "    </tr>\n",
       "    <tr>\n",
       "      <th>5</th>\n",
       "      <td>30</td>\n",
       "      <td>30</td>\n",
       "      <td>1979-12-31 21:00:00</td>\n",
       "      <td>-1</td>\n",
       "    </tr>\n",
       "    <tr>\n",
       "      <th>...</th>\n",
       "      <td>...</td>\n",
       "      <td>...</td>\n",
       "      <td>...</td>\n",
       "      <td>...</td>\n",
       "    </tr>\n",
       "    <tr>\n",
       "      <th>125404</th>\n",
       "      <td>18</td>\n",
       "      <td>18</td>\n",
       "      <td>2002-06-21 13:15:00</td>\n",
       "      <td>-1</td>\n",
       "    </tr>\n",
       "    <tr>\n",
       "      <th>125405</th>\n",
       "      <td>163</td>\n",
       "      <td>18</td>\n",
       "      <td>2002-06-21 17:37:00</td>\n",
       "      <td>-1</td>\n",
       "    </tr>\n",
       "    <tr>\n",
       "      <th>125406</th>\n",
       "      <td>163</td>\n",
       "      <td>156</td>\n",
       "      <td>2002-06-21 17:37:00</td>\n",
       "      <td>-1</td>\n",
       "    </tr>\n",
       "    <tr>\n",
       "      <th>125407</th>\n",
       "      <td>163</td>\n",
       "      <td>166</td>\n",
       "      <td>2002-06-21 17:37:00</td>\n",
       "      <td>-1</td>\n",
       "    </tr>\n",
       "    <tr>\n",
       "      <th>125408</th>\n",
       "      <td>18</td>\n",
       "      <td>18</td>\n",
       "      <td>2002-06-21 19:40:00</td>\n",
       "      <td>-1</td>\n",
       "    </tr>\n",
       "  </tbody>\n",
       "</table>\n",
       "<p>44591 rows × 4 columns</p>\n",
       "</div>"
      ],
      "text/plain": [
       "         V1   V2                Time  LDC_topic\n",
       "1        25  154 1979-12-31 21:00:00         -1\n",
       "2        30   30 1979-12-31 21:00:00         -1\n",
       "3        30   30 1979-12-31 21:00:00         -1\n",
       "4        30   30 1979-12-31 21:00:00         -1\n",
       "5        30   30 1979-12-31 21:00:00         -1\n",
       "...     ...  ...                 ...        ...\n",
       "125404   18   18 2002-06-21 13:15:00         -1\n",
       "125405  163   18 2002-06-21 17:37:00         -1\n",
       "125406  163  156 2002-06-21 17:37:00         -1\n",
       "125407  163  166 2002-06-21 17:37:00         -1\n",
       "125408   18   18 2002-06-21 19:40:00         -1\n",
       "\n",
       "[44591 rows x 4 columns]"
      ]
     },
     "execution_count": 6,
     "metadata": {},
     "output_type": "execute_result"
    }
   ],
   "source": [
    "enron_edges.drop(enron_edges[enron_edges['LDC_topic'] == 0].index, inplace = True) \n",
    "enron_edges\n",
    "\n"
   ]
  },
  {
   "cell_type": "code",
   "execution_count": 7,
   "metadata": {},
   "outputs": [
    {
     "data": {
      "text/html": [
       "<div>\n",
       "<style scoped>\n",
       "    .dataframe tbody tr th:only-of-type {\n",
       "        vertical-align: middle;\n",
       "    }\n",
       "\n",
       "    .dataframe tbody tr th {\n",
       "        vertical-align: top;\n",
       "    }\n",
       "\n",
       "    .dataframe thead th {\n",
       "        text-align: right;\n",
       "    }\n",
       "</style>\n",
       "<table border=\"1\" class=\"dataframe\">\n",
       "  <thead>\n",
       "    <tr style=\"text-align: right;\">\n",
       "      <th></th>\n",
       "      <th>V1</th>\n",
       "      <th>V2</th>\n",
       "      <th>Time</th>\n",
       "      <th>LDC_topic</th>\n",
       "    </tr>\n",
       "  </thead>\n",
       "  <tbody>\n",
       "    <tr>\n",
       "      <th>26363</th>\n",
       "      <td>83</td>\n",
       "      <td>108</td>\n",
       "      <td>2000-09-14 09:44:00</td>\n",
       "      <td>32</td>\n",
       "    </tr>\n",
       "    <tr>\n",
       "      <th>26378</th>\n",
       "      <td>64</td>\n",
       "      <td>59</td>\n",
       "      <td>2000-09-14 11:48:00</td>\n",
       "      <td>32</td>\n",
       "    </tr>\n",
       "    <tr>\n",
       "      <th>26380</th>\n",
       "      <td>64</td>\n",
       "      <td>59</td>\n",
       "      <td>2000-09-14 11:48:00</td>\n",
       "      <td>32</td>\n",
       "    </tr>\n",
       "    <tr>\n",
       "      <th>26390</th>\n",
       "      <td>27</td>\n",
       "      <td>91</td>\n",
       "      <td>2000-09-14 12:14:00</td>\n",
       "      <td>32</td>\n",
       "    </tr>\n",
       "    <tr>\n",
       "      <th>26394</th>\n",
       "      <td>27</td>\n",
       "      <td>91</td>\n",
       "      <td>2000-09-14 12:14:00</td>\n",
       "      <td>32</td>\n",
       "    </tr>\n",
       "    <tr>\n",
       "      <th>...</th>\n",
       "      <td>...</td>\n",
       "      <td>...</td>\n",
       "      <td>...</td>\n",
       "      <td>...</td>\n",
       "    </tr>\n",
       "    <tr>\n",
       "      <th>124185</th>\n",
       "      <td>178</td>\n",
       "      <td>178</td>\n",
       "      <td>2002-02-19 12:16:00</td>\n",
       "      <td>11</td>\n",
       "    </tr>\n",
       "    <tr>\n",
       "      <th>124186</th>\n",
       "      <td>178</td>\n",
       "      <td>178</td>\n",
       "      <td>2002-02-19 12:16:00</td>\n",
       "      <td>11</td>\n",
       "    </tr>\n",
       "    <tr>\n",
       "      <th>124187</th>\n",
       "      <td>104</td>\n",
       "      <td>178</td>\n",
       "      <td>2002-02-19 13:23:00</td>\n",
       "      <td>11</td>\n",
       "    </tr>\n",
       "    <tr>\n",
       "      <th>124188</th>\n",
       "      <td>178</td>\n",
       "      <td>104</td>\n",
       "      <td>2002-02-19 13:23:00</td>\n",
       "      <td>11</td>\n",
       "    </tr>\n",
       "    <tr>\n",
       "      <th>124197</th>\n",
       "      <td>96</td>\n",
       "      <td>26</td>\n",
       "      <td>2002-02-19 15:32:00</td>\n",
       "      <td>16</td>\n",
       "    </tr>\n",
       "  </tbody>\n",
       "</table>\n",
       "<p>32113 rows × 4 columns</p>\n",
       "</div>"
      ],
      "text/plain": [
       "         V1   V2                Time  LDC_topic\n",
       "26363    83  108 2000-09-14 09:44:00         32\n",
       "26378    64   59 2000-09-14 11:48:00         32\n",
       "26380    64   59 2000-09-14 11:48:00         32\n",
       "26390    27   91 2000-09-14 12:14:00         32\n",
       "26394    27   91 2000-09-14 12:14:00         32\n",
       "...     ...  ...                 ...        ...\n",
       "124185  178  178 2002-02-19 12:16:00         11\n",
       "124186  178  178 2002-02-19 12:16:00         11\n",
       "124187  104  178 2002-02-19 13:23:00         11\n",
       "124188  178  104 2002-02-19 13:23:00         11\n",
       "124197   96   26 2002-02-19 15:32:00         16\n",
       "\n",
       "[32113 rows x 4 columns]"
      ]
     },
     "execution_count": 7,
     "metadata": {},
     "output_type": "execute_result"
    }
   ],
   "source": [
    "enron_edges.drop(enron_edges[enron_edges['LDC_topic'] == -1].index, inplace = True) \n",
    "enron_edges\n"
   ]
  },
  {
   "cell_type": "code",
   "execution_count": 8,
   "metadata": {},
   "outputs": [
    {
     "data": {
      "text/html": [
       "<div>\n",
       "<style scoped>\n",
       "    .dataframe tbody tr th:only-of-type {\n",
       "        vertical-align: middle;\n",
       "    }\n",
       "\n",
       "    .dataframe tbody tr th {\n",
       "        vertical-align: top;\n",
       "    }\n",
       "\n",
       "    .dataframe thead th {\n",
       "        text-align: right;\n",
       "    }\n",
       "</style>\n",
       "<table border=\"1\" class=\"dataframe\">\n",
       "  <thead>\n",
       "    <tr style=\"text-align: right;\">\n",
       "      <th></th>\n",
       "      <th>V1</th>\n",
       "      <th>V2</th>\n",
       "      <th>LDC_topic</th>\n",
       "    </tr>\n",
       "  </thead>\n",
       "  <tbody>\n",
       "    <tr>\n",
       "      <th>count</th>\n",
       "      <td>32113.000000</td>\n",
       "      <td>32113.000000</td>\n",
       "      <td>32113.000000</td>\n",
       "    </tr>\n",
       "    <tr>\n",
       "      <th>mean</th>\n",
       "      <td>95.764706</td>\n",
       "      <td>99.661010</td>\n",
       "      <td>10.433968</td>\n",
       "    </tr>\n",
       "    <tr>\n",
       "      <th>std</th>\n",
       "      <td>50.934597</td>\n",
       "      <td>51.238175</td>\n",
       "      <td>6.450021</td>\n",
       "    </tr>\n",
       "    <tr>\n",
       "      <th>min</th>\n",
       "      <td>1.000000</td>\n",
       "      <td>1.000000</td>\n",
       "      <td>1.000000</td>\n",
       "    </tr>\n",
       "    <tr>\n",
       "      <th>25%</th>\n",
       "      <td>59.000000</td>\n",
       "      <td>59.000000</td>\n",
       "      <td>7.000000</td>\n",
       "    </tr>\n",
       "    <tr>\n",
       "      <th>50%</th>\n",
       "      <td>95.000000</td>\n",
       "      <td>102.000000</td>\n",
       "      <td>9.000000</td>\n",
       "    </tr>\n",
       "    <tr>\n",
       "      <th>75%</th>\n",
       "      <td>141.000000</td>\n",
       "      <td>147.000000</td>\n",
       "      <td>11.000000</td>\n",
       "    </tr>\n",
       "    <tr>\n",
       "      <th>max</th>\n",
       "      <td>184.000000</td>\n",
       "      <td>184.000000</td>\n",
       "      <td>32.000000</td>\n",
       "    </tr>\n",
       "  </tbody>\n",
       "</table>\n",
       "</div>"
      ],
      "text/plain": [
       "                 V1            V2     LDC_topic\n",
       "count  32113.000000  32113.000000  32113.000000\n",
       "mean      95.764706     99.661010     10.433968\n",
       "std       50.934597     51.238175      6.450021\n",
       "min        1.000000      1.000000      1.000000\n",
       "25%       59.000000     59.000000      7.000000\n",
       "50%       95.000000    102.000000      9.000000\n",
       "75%      141.000000    147.000000     11.000000\n",
       "max      184.000000    184.000000     32.000000"
      ]
     },
     "execution_count": 8,
     "metadata": {},
     "output_type": "execute_result"
    }
   ],
   "source": [
    "enron_edges.describe()"
   ]
  },
  {
   "cell_type": "code",
   "execution_count": 9,
   "metadata": {},
   "outputs": [
    {
     "name": "stdout",
     "output_type": "stream",
     "text": [
      "<class 'pandas.core.frame.DataFrame'>\n",
      "RangeIndex: 184 entries, 0 to 183\n",
      "Data columns (total 5 columns):\n",
      " #   Column         Non-Null Count  Dtype \n",
      "---  ------         --------------  ----- \n",
      " 0   Unnamed: 0     184 non-null    int64 \n",
      " 1   intergraph_id  184 non-null    int64 \n",
      " 2   Email          184 non-null    object\n",
      " 3   Name           160 non-null    object\n",
      " 4   Note           130 non-null    object\n",
      "dtypes: int64(2), object(3)\n",
      "memory usage: 7.3+ KB\n"
     ]
    }
   ],
   "source": [
    "enron_nodes.info()\n",
    "\n"
   ]
  },
  {
   "cell_type": "code",
   "execution_count": 10,
   "metadata": {},
   "outputs": [
    {
     "data": {
      "text/plain": [
       "Unnamed: 0        int64\n",
       "intergraph_id     int64\n",
       "Email            string\n",
       "Name             string\n",
       "Note             string\n",
       "dtype: object"
      ]
     },
     "execution_count": 10,
     "metadata": {},
     "output_type": "execute_result"
    }
   ],
   "source": [
    "enron_nodes['Email'] = enron_nodes['Email'].astype(pd.StringDtype())\n",
    "enron_nodes['Name'] = enron_nodes['Name'].astype(pd.StringDtype())\n",
    "enron_nodes['Note'] = enron_nodes['Note'].astype(pd.StringDtype())\n",
    "enron_nodes.dtypes"
   ]
  },
  {
   "cell_type": "code",
   "execution_count": 11,
   "metadata": {},
   "outputs": [
    {
     "data": {
      "text/html": [
       "<div>\n",
       "<style scoped>\n",
       "    .dataframe tbody tr th:only-of-type {\n",
       "        vertical-align: middle;\n",
       "    }\n",
       "\n",
       "    .dataframe tbody tr th {\n",
       "        vertical-align: top;\n",
       "    }\n",
       "\n",
       "    .dataframe thead th {\n",
       "        text-align: right;\n",
       "    }\n",
       "</style>\n",
       "<table border=\"1\" class=\"dataframe\">\n",
       "  <thead>\n",
       "    <tr style=\"text-align: right;\">\n",
       "      <th></th>\n",
       "      <th>intergraph_id</th>\n",
       "      <th>Email</th>\n",
       "      <th>Name</th>\n",
       "      <th>Note</th>\n",
       "    </tr>\n",
       "  </thead>\n",
       "  <tbody>\n",
       "    <tr>\n",
       "      <th>0</th>\n",
       "      <td>1</td>\n",
       "      <td>albert.meyers</td>\n",
       "      <td>Albert Meyers</td>\n",
       "      <td>Employee, Specialist</td>\n",
       "    </tr>\n",
       "    <tr>\n",
       "      <th>1</th>\n",
       "      <td>2</td>\n",
       "      <td>a..martin</td>\n",
       "      <td>Thomas Martin</td>\n",
       "      <td>Vice President</td>\n",
       "    </tr>\n",
       "    <tr>\n",
       "      <th>2</th>\n",
       "      <td>3</td>\n",
       "      <td>andrea.ring</td>\n",
       "      <td>Andrea Ring</td>\n",
       "      <td>&lt;NA&gt;</td>\n",
       "    </tr>\n",
       "    <tr>\n",
       "      <th>3</th>\n",
       "      <td>4</td>\n",
       "      <td>andrew.lewis</td>\n",
       "      <td>Andrew Lewis</td>\n",
       "      <td>Director</td>\n",
       "    </tr>\n",
       "    <tr>\n",
       "      <th>4</th>\n",
       "      <td>5</td>\n",
       "      <td>andy.zipper</td>\n",
       "      <td>Andy Zipper</td>\n",
       "      <td>Vice President, Enron Online</td>\n",
       "    </tr>\n",
       "    <tr>\n",
       "      <th>...</th>\n",
       "      <td>...</td>\n",
       "      <td>...</td>\n",
       "      <td>...</td>\n",
       "      <td>...</td>\n",
       "    </tr>\n",
       "    <tr>\n",
       "      <th>179</th>\n",
       "      <td>180</td>\n",
       "      <td>vladi.pimenov</td>\n",
       "      <td>Vladi Pimenov</td>\n",
       "      <td>&lt;NA&gt;</td>\n",
       "    </tr>\n",
       "    <tr>\n",
       "      <th>180</th>\n",
       "      <td>181</td>\n",
       "      <td>v.weldon</td>\n",
       "      <td>Charles Weldon</td>\n",
       "      <td>&lt;NA&gt;</td>\n",
       "    </tr>\n",
       "    <tr>\n",
       "      <th>181</th>\n",
       "      <td>182</td>\n",
       "      <td>w..delainey</td>\n",
       "      <td>David Delainey</td>\n",
       "      <td>CEO, Enron North America and Enron Enery Services</td>\n",
       "    </tr>\n",
       "    <tr>\n",
       "      <th>182</th>\n",
       "      <td>183</td>\n",
       "      <td>w..pereira</td>\n",
       "      <td>Susan Pereira</td>\n",
       "      <td>Employee</td>\n",
       "    </tr>\n",
       "    <tr>\n",
       "      <th>183</th>\n",
       "      <td>184</td>\n",
       "      <td>w..white</td>\n",
       "      <td>Stacey White</td>\n",
       "      <td>&lt;NA&gt;</td>\n",
       "    </tr>\n",
       "  </tbody>\n",
       "</table>\n",
       "<p>184 rows × 4 columns</p>\n",
       "</div>"
      ],
      "text/plain": [
       "     intergraph_id          Email            Name  \\\n",
       "0                1  albert.meyers   Albert Meyers   \n",
       "1                2      a..martin   Thomas Martin   \n",
       "2                3    andrea.ring     Andrea Ring   \n",
       "3                4   andrew.lewis    Andrew Lewis   \n",
       "4                5    andy.zipper     Andy Zipper   \n",
       "..             ...            ...             ...   \n",
       "179            180  vladi.pimenov   Vladi Pimenov   \n",
       "180            181       v.weldon  Charles Weldon   \n",
       "181            182    w..delainey  David Delainey   \n",
       "182            183     w..pereira   Susan Pereira   \n",
       "183            184       w..white    Stacey White   \n",
       "\n",
       "                                                  Note  \n",
       "0                                 Employee, Specialist  \n",
       "1                                       Vice President  \n",
       "2                                                 <NA>  \n",
       "3                                             Director  \n",
       "4                         Vice President, Enron Online  \n",
       "..                                                 ...  \n",
       "179                                               <NA>  \n",
       "180                                               <NA>  \n",
       "181  CEO, Enron North America and Enron Enery Services  \n",
       "182                                           Employee  \n",
       "183                                               <NA>  \n",
       "\n",
       "[184 rows x 4 columns]"
      ]
     },
     "execution_count": 11,
     "metadata": {},
     "output_type": "execute_result"
    }
   ],
   "source": [
    "enron_nodes = enron_nodes.drop( columns = ['Unnamed: 0' ], axis = 1)\n",
    "enron_nodes\n"
   ]
  },
  {
   "cell_type": "markdown",
   "metadata": {},
   "source": [
    "### We will make dataframes of the different topics the e-mails address to create graphs related to each of the topics and analyze their network metrics and for some of them how they changed over time. "
   ]
  },
  {
   "cell_type": "code",
   "execution_count": 12,
   "metadata": {},
   "outputs": [],
   "source": [
    "#California Crisis  -- All the topics about the California Energy Crisis\n",
    "california_crisis = enron_edges[enron_edges['LDC_topic'].isin([1,4,5,7])]\n",
    "california_crisis = california_crisis.sample(frac = .3)\n",
    "\n",
    "#California Analysys --  Executive summaries and analyses about the California energy crisis\n",
    "california_analysis = enron_edges[enron_edges['LDC_topic'].isin([1])]\n",
    "california_analysis = california_analysis.sample(frac = .3)\n",
    "\n",
    "#Calif_crisis_legal -- Articles about legal issues surrounding California energy crisis. \n",
    "california_legal = enron_edges[enron_edges['LDC_topic'].isin([4])]\n",
    "california_legal = california_legal.sample(frac = .3)\n",
    "\n",
    "#California Enron -- Enron business emails about the day to day operations of managing the California side of their business. (699) \n",
    "california_enron = enron_edges[enron_edges['LDC_topic'].isin([5])]\n",
    "california_enron = california_enron.sample(frac = .3)\n",
    "\n",
    "#California News --Long emails with a host of stories about California. These emails were news feeds from wire services such as Reuters and Dow Jones, which were widely circulated among Enron employees\n",
    "california_news = enron_edges[enron_edges['LDC_topic'].isin([7])]\n",
    "california_news = california_news.sample(frac = .3)\n",
    "\n",
    "#Daily Business -- As one might expect, the majority of the emails in this collection are emails about the regular day to day activities of a multinational energy company (i.e. “trade this share, buy these shares,” etc.).\n",
    "daily_enron = enron_edges[enron_edges['LDC_topic'].isin([9])]\n",
    "daily_enron = daily_enron.sample(frac = .3)\n",
    "\n",
    "# Enron Online -- Enrononline is the electronic trading and information software tool that the Enron traders used. It was an invaluable asset to the company and gave them an edge on their competitors. Louise Kitchen was an early developer of the technology.\n",
    "enron_online = enron_edges[enron_edges['LDC_topic'].isin([11])]\n",
    "enron_online = enron_online.sample(frac = .3)\n",
    "\n",
    "# Enron Downfall -- Articles about Enron's demise. Messages from employees worrying about what is going on. This includes announcements from management about “not worrying about it.\n",
    "downfall_enron = enron_edges[enron_edges['LDC_topic'].isin([16])]\n",
    "downfall_enron = downfall_enron.sample(frac = .3)\n",
    "\n",
    "# Downfall news --  Wire stories about Enron's demise.\n",
    "downfall_news = enron_edges[enron_edges['LDC_topic'].isin([17])]\n",
    "downfall_news = downfall_news.sample(frac = .3)\n",
    "\n",
    "# Pro Football (NFL) -- Employee emails about professional football (The NFL), but these refer to fantasy pro football leagues, where the statistics of real players are used to play an online version of football\n",
    "nfl = enron_edges[enron_edges['LDC_topic'].isin([22])]\n",
    "nfl = nfl.sample(frac = .3)\n",
    "\n",
    "#India Energy -- General information about the India energy issues and Enron´s energy business in India\n",
    "india = enron_edges[enron_edges['LDC_topic'].isin([23, 24])]\n",
    "india = india.sample(frac=.3)\n",
    "\n",
    "# 9/11--  The terrorist attack of September 11, 2001. Mostly newscasts, updates and analysys\n",
    "sept_11 = enron_edges[enron_edges['LDC_topic'].isin([25,26])]\n",
    "sept_11 = sept_11.sample(frac=.3)\n",
    "\n",
    "# Pipeline Management -- General pipeline management. Note that pipelines are important part in transporting energy from one place to another. Enron’s original business was a pipeline business\n",
    "pipelines = enron_edges[enron_edges['LDC_topic'].isin([31])]\n",
    "pipelines = pipelines.sample(frac=.3)\n",
    "\n",
    "# World Energy -- A general category about energy with one or more specific geographic locations (such as Asia, Africa) that is not about India. (25)\n",
    "world_energy = enron_edges[enron_edges['LDC_topic'].isin([32])]\n",
    "world_energy = world_energy.sample(frac=.3)"
   ]
  },
  {
   "cell_type": "markdown",
   "metadata": {},
   "source": [
    "### We proceed to make the graphs for each topic. "
   ]
  },
  {
   "cell_type": "code",
   "execution_count": 13,
   "metadata": {},
   "outputs": [],
   "source": [
    "#Overall Graph\n",
    "enron_g = ig.Graph.DictList(\n",
    "          vertices=enron_nodes.to_dict('records'),\n",
    "          edges=enron_edges.to_dict('records'),\n",
    "          directed=True,\n",
    "          vertex_name_attr='Email',\n",
    "          edge_foreign_keys=('V1', 'V2')\n",
    ");\n",
    "\n",
    "#California Crisis\n",
    "california_crisis_g = ig.Graph.DictList(\n",
    "          vertices=enron_nodes.to_dict('records'),\n",
    "          edges=california_crisis.to_dict('records'),\n",
    "          directed=True,\n",
    "          vertex_name_attr='Email',\n",
    "          edge_foreign_keys=('V1', 'V2')\n",
    ");\n",
    "# California Analysis [1]\n",
    "california_analsis_g = ig.Graph.DictList(\n",
    "          vertices=enron_nodes.to_dict('records'),\n",
    "          edges=california_analysis.to_dict('records'),\n",
    "          directed=True,\n",
    "          vertex_name_attr='Email',\n",
    "          edge_foreign_keys=('V1', 'V2')\n",
    ");\n",
    "#Calif_crisis_legal\n",
    "california_legal_g = ig.Graph.DictList(\n",
    "          vertices=enron_nodes.to_dict('records'),\n",
    "          edges=california_legal.to_dict('records'),\n",
    "          directed=True,\n",
    "          vertex_name_attr='Email',\n",
    "          edge_foreign_keys=('V1', 'V2')\n",
    ");\n",
    "#California Enron\n",
    "california_enron_g = ig.Graph.DictList(\n",
    "          vertices=enron_nodes.to_dict('records'),\n",
    "          edges=california_enron.to_dict('records'),\n",
    "          directed=True,\n",
    "          vertex_name_attr='Email',\n",
    "          edge_foreign_keys=('V1', 'V2')\n",
    ");\n",
    "#California News\n",
    "california_news_g = ig.Graph.DictList(\n",
    "          vertices=enron_nodes.to_dict('records'),\n",
    "          edges=california_news.to_dict('records'),\n",
    "          directed=True,\n",
    "          vertex_name_attr='Email',\n",
    "          edge_foreign_keys=('V1', 'V2')\n",
    ");\n",
    "#Daily Business\n",
    "daily_enron_g = ig.Graph.DictList(\n",
    "          vertices=enron_nodes.to_dict('records'),\n",
    "          edges=daily_enron.to_dict('records'),\n",
    "          directed=True,\n",
    "          vertex_name_attr='Email',\n",
    "          edge_foreign_keys=('V1', 'V2')\n",
    ");\n",
    "# Enron Online\n",
    "enron_online_g = ig.Graph.DictList(\n",
    "          vertices=enron_nodes.to_dict('records'),\n",
    "          edges=enron_online.to_dict('records'),\n",
    "          directed=True,\n",
    "          vertex_name_attr='Email',\n",
    "          edge_foreign_keys=('V1', 'V2')\n",
    ");\n",
    "# Enron Downfall\n",
    "downfall_enron_g = ig.Graph.DictList(\n",
    "          vertices=enron_nodes.to_dict('records'),\n",
    "          edges=downfall_enron.to_dict('records'),\n",
    "          directed=True,\n",
    "          vertex_name_attr='Email',\n",
    "          edge_foreign_keys=('V1', 'V2')\n",
    ");\n",
    "# Downfall news\n",
    "downfall_news_g = ig.Graph.DictList(\n",
    "          vertices=enron_nodes.to_dict('records'),\n",
    "          edges=downfall_news.to_dict('records'),\n",
    "          directed=True,\n",
    "          vertex_name_attr='Email',\n",
    "          edge_foreign_keys=('V1', 'V2')\n",
    ");\n",
    "# Pro Football (NFL)\n",
    "nfl_g = ig.Graph.DictList(\n",
    "          vertices=enron_nodes.to_dict('records'),\n",
    "          edges=nfl.to_dict('records'),\n",
    "          directed=True,\n",
    "          vertex_name_attr='Email',\n",
    "          edge_foreign_keys=('V1', 'V2')\n",
    ");\n",
    "#India Energy\n",
    "india_g = ig.Graph.DictList(\n",
    "          vertices=enron_nodes.to_dict('records'),\n",
    "          edges=india.to_dict('records'),\n",
    "          directed=True,\n",
    "          vertex_name_attr='Email',\n",
    "          edge_foreign_keys=('V1', 'V2')\n",
    ");\n",
    "# 9/11\n",
    "sept_11_g = ig.Graph.DictList(\n",
    "          vertices=enron_nodes.to_dict('records'),\n",
    "          edges=sept_11.to_dict('records'),\n",
    "          directed=True,\n",
    "          vertex_name_attr='Email',\n",
    "          edge_foreign_keys=('V1', 'V2')\n",
    ");\n",
    "# Pipeline Management\n",
    "pipelines_g = ig.Graph.DictList(\n",
    "          vertices=enron_nodes.to_dict('records'),\n",
    "          edges=pipelines.to_dict('records'),\n",
    "          directed=True,\n",
    "          vertex_name_attr='Email',\n",
    "          edge_foreign_keys=('V1', 'V2')\n",
    ");\n",
    "# World Energy\n",
    "world_energy_g= ig.Graph.DictList(\n",
    "          vertices=enron_nodes.to_dict('records'),\n",
    "          edges=world_energy.to_dict('records'),\n",
    "          directed=True,\n",
    "          vertex_name_attr='Email',\n",
    "          edge_foreign_keys=('V1', 'V2')\n",
    ");"
   ]
  },
  {
   "cell_type": "code",
   "execution_count": null,
   "metadata": {},
   "outputs": [],
   "source": [
    "plot(california_crisis_g)"
   ]
  },
  {
   "cell_type": "code",
   "execution_count": null,
   "metadata": {},
   "outputs": [],
   "source": [
    "plot(daily_enron_g)"
   ]
  },
  {
   "cell_type": "code",
   "execution_count": null,
   "metadata": {},
   "outputs": [],
   "source": [
    "plot(enron_online_g)"
   ]
  },
  {
   "cell_type": "code",
   "execution_count": null,
   "metadata": {},
   "outputs": [],
   "source": [
    "plot(downfall_enron_g)"
   ]
  },
  {
   "cell_type": "code",
   "execution_count": null,
   "metadata": {},
   "outputs": [],
   "source": [
    "plot(downfall_news_g)"
   ]
  },
  {
   "cell_type": "code",
   "execution_count": null,
   "metadata": {},
   "outputs": [],
   "source": [
    "plot(nfl_g)"
   ]
  },
  {
   "cell_type": "code",
   "execution_count": null,
   "metadata": {},
   "outputs": [],
   "source": [
    "plot(india_g)"
   ]
  },
  {
   "cell_type": "code",
   "execution_count": null,
   "metadata": {},
   "outputs": [],
   "source": [
    "plot(sep_11_g)"
   ]
  },
  {
   "cell_type": "code",
   "execution_count": null,
   "metadata": {},
   "outputs": [],
   "source": [
    "plot(pipeline_g)"
   ]
  },
  {
   "cell_type": "code",
   "execution_count": null,
   "metadata": {},
   "outputs": [],
   "source": [
    "plot(world_energy_g)"
   ]
  },
  {
   "cell_type": "markdown",
   "metadata": {},
   "source": [
    "# Degree. "
   ]
  },
  {
   "cell_type": "markdown",
   "metadata": {},
   "source": [
    "### Enron Overall "
   ]
  },
  {
   "cell_type": "code",
   "execution_count": null,
   "metadata": {},
   "outputs": [],
   "source": [
    "#MAX DEGREE\n",
    "enron_g.vs.select(_degree = max(enron_g.degree()))[\"Email\"] \n"
   ]
  },
  {
   "cell_type": "markdown",
   "metadata": {},
   "source": [
    "Vince Kaminski\tManager, Risk Management Head"
   ]
  },
  {
   "cell_type": "markdown",
   "metadata": {},
   "source": [
    "### California Crisis graphs"
   ]
  },
  {
   "cell_type": "markdown",
   "metadata": {},
   "source": [
    "#### Analysis"
   ]
  },
  {
   "cell_type": "code",
   "execution_count": null,
   "metadata": {},
   "outputs": [],
   "source": [
    "california_analsis_g.vs.select(_degree = max(california_analsis_g.degree()))[\"Email\"] "
   ]
  },
  {
   "cell_type": "markdown",
   "metadata": {},
   "source": [
    "#### California Crisis Legal Issues"
   ]
  },
  {
   "cell_type": "code",
   "execution_count": null,
   "metadata": {},
   "outputs": [],
   "source": [
    "california_legal_g.vs.select(_degree = max(california_legal_g.degree()))[\"Email\"] "
   ]
  },
  {
   "cell_type": "markdown",
   "metadata": {},
   "source": [
    "#### Enron California Business "
   ]
  },
  {
   "cell_type": "code",
   "execution_count": null,
   "metadata": {},
   "outputs": [],
   "source": [
    "california_enron_g.vs.select(_degree = max(california_enron_g.degree()))[\"Email\"] "
   ]
  },
  {
   "cell_type": "code",
   "execution_count": null,
   "metadata": {},
   "outputs": [],
   "source": []
  },
  {
   "cell_type": "markdown",
   "metadata": {},
   "source": [
    "#### California crisis news"
   ]
  },
  {
   "cell_type": "code",
   "execution_count": null,
   "metadata": {},
   "outputs": [],
   "source": [
    "california_news_g.vs.select(_degree = max(california_news_g.degree()))[\"Email\"] "
   ]
  },
  {
   "attachments": {
    "image.png": {
     "image/png": "[encoded data removed]"
    }
   },
   "cell_type": "markdown",
   "metadata": {},
   "source": [
    " Jeff Dasovich\tEmployee, Government Relation Executive![image.png](attachment:image.png)"
   ]
  },
  {
   "cell_type": "markdown",
   "metadata": {},
   "source": [
    "### Enron´s daily Business"
   ]
  },
  {
   "cell_type": "code",
   "execution_count": null,
   "metadata": {},
   "outputs": [],
   "source": [
    "daily_enron_g.vs.select(_degree = max(daily_enron_g.degree()))[\"Email\"] "
   ]
  },
  {
   "attachments": {
    "image.png": {
     "image/png": "[encoded data removed]"
    }
   },
   "cell_type": "markdown",
   "metadata": {},
   "source": [
    "  sara.shackleton![image.png](attachment:image.png)"
   ]
  },
  {
   "cell_type": "markdown",
   "metadata": {},
   "source": [
    "### Enron Online"
   ]
  },
  {
   "cell_type": "code",
   "execution_count": null,
   "metadata": {},
   "outputs": [],
   "source": [
    "enron_online_g.vs.select(_degree = max(enron_online_g.degree()))[\"Email\"] "
   ]
  },
  {
   "cell_type": "markdown",
   "metadata": {},
   "source": [
    "#### tana.jones"
   ]
  },
  {
   "cell_type": "markdown",
   "metadata": {},
   "source": [
    "### Enron Downfall"
   ]
  },
  {
   "cell_type": "code",
   "execution_count": null,
   "metadata": {},
   "outputs": [],
   "source": [
    "downfall_enron_g.vs.select(_degree = max(downfall_enron_g.degree()))[\"Email\"] "
   ]
  },
  {
   "attachments": {
    "image.png": {
     "image/png": "[encoded data removed]"
    }
   },
   "cell_type": "markdown",
   "metadata": {},
   "source": [
    "Louise Kitchen\tPresident, Enron Online![image.png](attachment:image.png)#### "
   ]
  },
  {
   "cell_type": "markdown",
   "metadata": {},
   "source": [
    "### Enron Downfall news "
   ]
  },
  {
   "cell_type": "code",
   "execution_count": null,
   "metadata": {},
   "outputs": [],
   "source": [
    "downfall_news_g.vs.select(_degree = max(downfall_news_g.degree()))[\"Email\"] "
   ]
  },
  {
   "attachments": {
    "image.png": {
     "image/png": "[encoded data removed]"
    }
   },
   "cell_type": "markdown",
   "metadata": {},
   "source": [
    "joannie.williamson![image.png](attachment:image.png)"
   ]
  },
  {
   "cell_type": "markdown",
   "metadata": {},
   "source": [
    "###  Pro Football"
   ]
  },
  {
   "cell_type": "code",
   "execution_count": null,
   "metadata": {},
   "outputs": [],
   "source": [
    "nfl_g.vs.select(_degree = max(nfl_g.degree()))[\"Email\"] "
   ]
  },
  {
   "attachments": {
    "image.png": {
     "image/png": "[encoded data removed]"
    }
   },
   "cell_type": "markdown",
   "metadata": {},
   "source": [
    "Jim Schwieger\tTrader![image.png](attachment:image.png)"
   ]
  },
  {
   "cell_type": "markdown",
   "metadata": {},
   "source": [
    "### India Energy"
   ]
  },
  {
   "cell_type": "code",
   "execution_count": null,
   "metadata": {},
   "outputs": [],
   "source": [
    "india_g.vs.select(_degree = max(india_g.degree()))[\"Email\"] "
   ]
  },
  {
   "attachments": {
    "image.png": {
     "image/png": "[encoded data removed]"
    }
   },
   "cell_type": "markdown",
   "metadata": {},
   "source": [
    "Vince Kaminski\tManager, Risk Management Head![image.png](attachment:image.png)"
   ]
  },
  {
   "cell_type": "markdown",
   "metadata": {},
   "source": [
    "### 9/11"
   ]
  },
  {
   "cell_type": "code",
   "execution_count": null,
   "metadata": {},
   "outputs": [],
   "source": [
    "sept_11_g.vs.select(_degree = max(sept_11_g.degree()))[\"Email\"] "
   ]
  },
  {
   "attachments": {
    "image.png": {
     "image/png": "[encoded data removed]"
    }
   },
   "cell_type": "markdown",
   "metadata": {},
   "source": [
    "Michael Grigsby\tManager![image.png](attachment:image.png)"
   ]
  },
  {
   "cell_type": "markdown",
   "metadata": {},
   "source": [
    "### Pipeline Management"
   ]
  },
  {
   "cell_type": "code",
   "execution_count": null,
   "metadata": {},
   "outputs": [],
   "source": [
    "pipelines_g.vs.select(_degree = max(pipelines_g.degree()))[\"Email\"] "
   ]
  },
  {
   "cell_type": "markdown",
   "metadata": {},
   "source": [
    "Mark Whitt"
   ]
  },
  {
   "cell_type": "markdown",
   "metadata": {},
   "source": [
    "### World Energy "
   ]
  },
  {
   "cell_type": "code",
   "execution_count": null,
   "metadata": {},
   "outputs": [],
   "source": [
    "world_energy_g.vs.select(_degree = max(world_energy_g.degree()))[\"Email\"] "
   ]
  },
  {
   "cell_type": "markdown",
   "metadata": {},
   "source": [
    "Vince Kaminski\tManager, Risk Management Head"
   ]
  },
  {
   "cell_type": "code",
   "execution_count": null,
   "metadata": {},
   "outputs": [],
   "source": []
  }
 ],
 "metadata": {
  "kernelspec": {
   "display_name": "Python 3",
   "language": "python",
   "name": "python3"
  },
  "language_info": {
   "codemirror_mode": {
    "name": "ipython",
    "version": 3
   },
   "file_extension": ".py",
   "mimetype": "text/x-python",
   "name": "python",
   "nbconvert_exporter": "python",
   "pygments_lexer": "ipython3",
   "version": "3.8.3"
  }
 },
 "nbformat": 4,
 "nbformat_minor": 4
}
